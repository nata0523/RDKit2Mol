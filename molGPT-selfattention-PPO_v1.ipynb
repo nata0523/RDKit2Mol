{
 "cells": [
  {
   "cell_type": "code",
   "execution_count": 1,
   "id": "42b9e3a6",
   "metadata": {},
   "outputs": [],
   "source": [
    "import torch\n",
    "import torch.nn as nn\n",
    "import numpy as np\n",
    "\n",
    "# Causal Mask\n",
    "def Causal_Mask(seq_len, device): \n",
    "    mask = torch.triu(torch.ones(seq_len, seq_len, device=device), diagonal=1)\n",
    "    mask = mask.masked_fill(mask == 1, float(\"-inf\"))\n",
    "    return mask\n",
    "\n",
    "# Embedding for tokens\n",
    "class Embedder(nn.Module): \n",
    "    def __init__(self, vocab_size, embedding_dim, padding_idx):\n",
    "        super().__init__()\n",
    "        self.embedding = nn.Embedding(vocab_size, embedding_dim, padding_idx=padding_idx)\n",
    "\n",
    "    def forward(self, x):\n",
    "        return self.embedding(x)\n",
    "\n",
    "# Positional Encoding\n",
    "class PositionalEncoder(nn.Module): \n",
    "    def __init__(self, embedding_dim, max_len=500):\n",
    "        super().__init__()\n",
    "        pe = torch.zeros(max_len, embedding_dim)\n",
    "        position = torch.arange(0, max_len, dtype=torch.float).unsqueeze(1)\n",
    "        div_term = torch.exp(torch.arange(0, embedding_dim, 2).float() * (-np.log(10000.0) / embedding_dim))\n",
    "        pe[:, 0::2] = torch.sin(position * div_term)\n",
    "        pe[:, 1::2] = torch.cos(position * div_term)\n",
    "        pe = pe.unsqueeze(0)  # shape: [1, max_len, embedding_dim]\n",
    "        self.register_buffer('pe', pe)\n",
    "\n",
    "    def forward(self, x):\n",
    "        x = x + self.pe[:, :x.size(1)]\n",
    "        return x\n",
    "\n",
    "class DescriptorEncoder(nn.Module): \n",
    "    def __init__(self, desc_size, emb_dim, dropout=0.1, device='cuda'):\n",
    "        super().__init__()\n",
    "        self.desc_size = desc_size\n",
    "        self.device = device\n",
    "        self.bit_emb = nn.Embedding(desc_size, emb_dim)  # 各特徴の意味ベクトル\n",
    "        self.scale_norm = nn.LayerNorm(1)                # 値のスケーリング安定化\n",
    "        self.dropout = nn.Dropout(dropout)\n",
    "\n",
    "    def forward(self, desc):  # desc: [B, D], float\n",
    "        B, D = desc.shape\n",
    "        assert D == self.desc_size, \"Input descriptor dim must match initialized size\"\n",
    "\n",
    "        bit_idx = torch.arange(D, device=self.device).unsqueeze(0).expand(B, D)  # [B, D]\n",
    "        bit = self.bit_emb(bit_idx)                  # [B, D, emb]\n",
    "        val = self.scale_norm(desc.unsqueeze(-1))    # [B, D, 1]\n",
    "        emb = self.dropout(bit * val)                # [B, D, emb]\n",
    "        return emb\n",
    "\n",
    "\n",
    "# Self-Attention Layer\n",
    "class SelfAttentionLayer(nn.Module):\n",
    "    def __init__(self, embedding_dim, n_heads):\n",
    "        super().__init__()\n",
    "        self.attention = nn.MultiheadAttention(embedding_dim, n_heads, batch_first=True)\n",
    "\n",
    "    def forward(self, x):\n",
    "        seq_len = x.size(1)\n",
    "        mask = Causal_Mask(seq_len, x.device)\n",
    "        attn_output, _ = self.attention(x, x, x, attn_mask=mask)\n",
    "        return attn_output\n",
    "\n",
    "# FeedForward Layer\n",
    "class FeedForwardLayer(nn.Module):\n",
    "    def __init__(self, embedding_dim, feedforward_dim):\n",
    "        super().__init__()\n",
    "        self.feedforward = nn.Sequential(\n",
    "            nn.Linear(embedding_dim, feedforward_dim),\n",
    "            nn.ReLU(),\n",
    "            nn.Linear(feedforward_dim, embedding_dim)\n",
    "        )\n",
    "\n",
    "    def forward(self, x):\n",
    "        return self.feedforward(x)\n",
    "\n",
    "# Transformer Block\n",
    "class TransformerBlock(nn.Module):\n",
    "    def __init__(self, embedding_dim, n_heads, feedforward_dim):\n",
    "        super().__init__()\n",
    "        self.self_attn = SelfAttentionLayer(embedding_dim, n_heads)\n",
    "        self.feed_forward = FeedForwardLayer(embedding_dim, feedforward_dim)\n",
    "        self.norm1 = nn.LayerNorm(embedding_dim)\n",
    "        self.norm2 = nn.LayerNorm(embedding_dim)\n",
    "\n",
    "    def forward(self, x):\n",
    "        x2 = self.self_attn(x)\n",
    "        x = self.norm1(x + x2)\n",
    "        x2 = self.feed_forward(x)\n",
    "        x = self.norm2(x + x2)\n",
    "        return x\n",
    "\n",
    "# MolGPT Self-Attention Model\n",
    "class MolGPT_SelfAttention(nn.Module):\n",
    "    def __init__(self, vocab_size, embedding_dim, padding_idx, n_heads, feedforward_dim, n_layers, desc_size):\n",
    "        super().__init__()\n",
    "        self.embedder = Embedder(vocab_size, embedding_dim, padding_idx)\n",
    "        self.descriptor_encoder = DescriptorEncoder(desc_size, embedding_dim)\n",
    "        self.positional_encoder = PositionalEncoder(embedding_dim)\n",
    "        self.dropout = nn.Dropout(0.1)\n",
    "\n",
    "        self.layers = nn.ModuleList([\n",
    "            TransformerBlock(embedding_dim, n_heads, feedforward_dim)\n",
    "            for _ in range(n_layers)\n",
    "        ])\n",
    "        self.output_layer = nn.Linear(embedding_dim, vocab_size)\n",
    "\n",
    "    def forward(self, x, desc):\n",
    "        token_emb = self.embedder(x)                          # [B, T, D]\n",
    "        desc_emb = self.descriptor_encoder(desc)              # [B, D1, D]\n",
    "        combined = torch.cat([desc_emb, token_emb], dim=1)    # [B, D1+T, D]\n",
    "        combined = self.positional_encoder(combined)\n",
    "        combined = self.dropout(combined)\n",
    "\n",
    "        x = combined  # already [B, L, D] due to batch_first=True\n",
    "\n",
    "        for layer in self.layers:\n",
    "            x = layer(x)\n",
    "\n",
    "        logits = self.output_layer(x)                         # [B, D1+T, vocab]\n",
    "        return logits[:, desc_emb.size(1):, :]                # return only token part\n"
   ]
  },
  {
   "cell_type": "code",
   "execution_count": 2,
   "id": "308c1b21",
   "metadata": {},
   "outputs": [],
   "source": [
    "import re\n",
    "import torch\n",
    "\n",
    "class SMILESTokenizer:\n",
    "    def __init__(self):\n",
    "        # 固定トークンセット（既に定義済み）\n",
    "        self.tokens = ['#', '%10', '%11', '%12', '(', ')', '-', '1', '2', '3', '4', '5', '6', '7', '8', '9', '<', '=', 'B', 'Br', 'C', 'Cl', 'F', 'I', 'N', 'O', 'P', 'S',\n",
    "            '[B-]', '[BH-]', '[BH2-]', '[BH3-]', '[B]', '[C+]', '[C-]', '[CH+]', '[CH-]', '[CH2+]', '[CH2]', '[CH]', '[F+]', '[H]', '[I+]', '[IH2]', '[IH]', '[N+]', '[N-]',\n",
    "            '[NH+]', '[NH-]', '[NH2+]', '[NH3+]', '[N]', '[O+]', '[O-]', '[OH+]', '[O]', '[P+]', '[PH+]', '[PH2+]', '[PH]', '[S+]', '[S-]', '[SH+]', '[SH]', '[Se+]', \n",
    "            '[SeH+]', '[SeH]', '[Se]', '[Si-]', '[SiH-]', '[SiH2]', '[SiH]', '[Si]', '[b-]', '[bH-]', '[c+]', '[c-]', '[cH+]', '[cH-]', '[n+]', '[n-]', '[nH+]', '[nH]', \n",
    "            '[o+]', '[s+]', '[sH+]', '[se+]', '[se]', 'b', 'c', 'n', 'o', 'p', 's']\n",
    "\n",
    "        # 特殊トークン\n",
    "        self.special_tokens = ['<BOS>', '<EOS>', '<PAD>', '<UNK>']\n",
    "        self.pad_token = '<PAD>'\n",
    "        self.bos_token = '<BOS>'\n",
    "        self.eos_token = '<EOS>'\n",
    "        self.unk_token = '<UNK>'\n",
    "\n",
    "        # 語彙構築（固定）\n",
    "        all_tokens = self.special_tokens + self.tokens\n",
    "        self.vocab = {token: idx for idx, token in enumerate(all_tokens)}\n",
    "        self.reverse_vocab = {idx: token for token, idx in self.vocab.items()}\n",
    "\n",
    "        # トークンパターン\n",
    "        self.pattern = re.compile(\n",
    "            r'%\\d{2}|\\[[^\\]]+\\]|Cl|Br|Si|Se|As|B|C|N|O|F|P|S|I|[cnospb]|[0-9]|\\(|\\)|=|#|-|\\/|\\\\|\\.|<'\n",
    "        )\n",
    "\n",
    "    def tokenize(self, smiles):\n",
    "        return self.pattern.findall(smiles)\n",
    "\n",
    "    def encode(self, smiles):\n",
    "        tokens = [self.bos_token] + self.tokenize(smiles) + [self.eos_token]\n",
    "        return [self.vocab.get(token, self.vocab[self.unk_token]) for token in tokens]\n",
    "\n",
    "    def decode(self, token_ids):\n",
    "        tokens = [self.reverse_vocab.get(int(i), self.unk_token) for i in token_ids]\n",
    "        return ''.join([t for t in tokens if t not in self.special_tokens and t != self.pad_token])\n",
    "\n",
    "    def masking_tokens(self, token_ids):\n",
    "        inputs = token_ids[:-1]\n",
    "        labels = token_ids[1:]\n",
    "        return torch.tensor(inputs, dtype=torch.long), torch.tensor(labels, dtype=torch.long)\n",
    "\n"
   ]
  },
  {
   "cell_type": "code",
   "execution_count": 3,
   "id": "67176f0e",
   "metadata": {},
   "outputs": [
    {
     "name": "stdout",
     "output_type": "stream",
     "text": [
      "98\n"
     ]
    }
   ],
   "source": [
    "from rdkit import Chem\n",
    "from rdkit.Chem import Descriptors\n",
    "from rdkit.Chem import MACCSkeys\n",
    "import numpy as np\n",
    "import joblib\n",
    "import torch\n",
    "from torch.utils.data import DataLoader, TensorDataset\n",
    "from sklearn.preprocessing import StandardScaler\n",
    "\n",
    "# read smiles txt\n",
    "with open(r'C:\\Users\\taiki\\IT\\OPS_AGI\\molGPT\\data\\ZINC\\50k_rndm_zinc_drugs_clean.txt', 'r') as file:\n",
    "    smiles_lists = [line.strip() for line in file.readlines()]\n",
    "\n",
    "tokenizer = SMILESTokenizer()\n",
    "print(len(tokenizer.vocab))\n"
   ]
  },
  {
   "cell_type": "code",
   "execution_count": 4,
   "id": "c8d5acf4",
   "metadata": {},
   "outputs": [
    {
     "name": "stdout",
     "output_type": "stream",
     "text": [
      "inputs_size: torch.Size([50000, 70])\n",
      "labels_size: torch.Size([50000, 70])\n",
      "descriptors_size: torch.Size([50000, 217])\n"
     ]
    }
   ],
   "source": [
    "# encoding\n",
    "encoded_data = [tokenizer.encode(smiles) for smiles in smiles_lists]\n",
    "# masking\n",
    "data = [tokenizer.masking_tokens(tokens) for tokens in encoded_data]\n",
    "\n",
    "# descriptor計算\n",
    "def get_descriptor(smiles, descriptor_type='RDKit'):\n",
    "    mol = Chem.MolFromSmiles(smiles)\n",
    "    if mol is not None:\n",
    "        if descriptor_type == 'RDKit':\n",
    "            descriptors = []\n",
    "            for name, func in Descriptors._descList:\n",
    "                try:\n",
    "                    val = func(mol)\n",
    "                    # NaN, inf の除去（floatで有限な値だけ通す）\n",
    "                    descriptors.append(val if np.isfinite(val) else 0.0)\n",
    "                except:\n",
    "                    # 計算エラーも含めて0.0にしておく（または np.nan でも可）\n",
    "                    descriptors.append(0.0)\n",
    "            return np.array(descriptors, dtype=np.float32)\n",
    "        \n",
    "        elif descriptor_type == 'MACCS':\n",
    "            maccs_fp = MACCSkeys.GenMACCSKeys(mol)\n",
    "            arr = np.zeros((maccs_fp.GetNumBits(),), dtype=np.float32)\n",
    "            # ビットをnumpy配列にコピー\n",
    "            for i in range(maccs_fp.GetNumBits()):\n",
    "                arr[i] = maccs_fp.GetBit(i)\n",
    "            return arr\n",
    "        \n",
    "        else:\n",
    "            raise ValueError(\"Unknown descriptor type: choose 'RDKit' or 'MACCS'\")\n",
    "    else:\n",
    "        return None\n",
    "\n",
    "# descriptorを一回だけ計算\n",
    "descriptor_data = []\n",
    "valid_data = []\n",
    "for smiles, (tokens, labels) in zip(smiles_lists, data):\n",
    "    descriptors = get_descriptor(smiles)\n",
    "    if descriptors is not None:\n",
    "        descriptor_data.append(descriptors)\n",
    "        valid_data.append((tokens, labels))  # descriptorがNoneじゃないペアだけ保存\n",
    "\n",
    "data = valid_data\n",
    "\n",
    "# max_len計算（inputsだけで十分）\n",
    "max_len = max(len(tokens) for tokens, _ in data)\n",
    "\n",
    "# padding\n",
    "padded_inputs = [\n",
    "    torch.cat([tokens, torch.full((max_len - len(tokens),), tokenizer.vocab[tokenizer.pad_token], dtype=torch.long)])\n",
    "    for tokens, _ in data\n",
    "]\n",
    "padded_labels = [\n",
    "    torch.cat([labels, torch.full((max_len - len(labels),), tokenizer.vocab[tokenizer.pad_token], dtype=torch.long)])\n",
    "    for _, labels in data\n",
    "]\n",
    "\n",
    "#scaling\n",
    "scaler = StandardScaler()\n",
    "descriptor_data_scaled = scaler.fit_transform(descriptor_data)\n",
    "joblib.dump(scaler, \"descriptor_scaler.pkl\")\n",
    "\n",
    "# to tensor\n",
    "input_ids = torch.stack(padded_inputs)  \n",
    "labels = torch.stack(padded_labels)     \n",
    "descriptors = torch.tensor(descriptor_data_scaled, dtype=torch.float)\n",
    "\n",
    "# create Dataloader\n",
    "dataset = TensorDataset(input_ids, labels, descriptors)\n",
    "dataloader = DataLoader(dataset, batch_size=64, shuffle=True)\n",
    "\n",
    "print(f'inputs_size: {input_ids.size()}')\n",
    "print(f'labels_size: {labels.size()}')\n",
    "print(f'descriptors_size: {descriptors.size()}')\n"
   ]
  },
  {
   "cell_type": "code",
   "execution_count": 5,
   "id": "fc4b163e",
   "metadata": {},
   "outputs": [
    {
     "name": "stderr",
     "output_type": "stream",
     "text": [
      "[Train] Epoch 1/100: 100%|██████████| 1123/1123 [05:35<00:00,  3.35it/s, loss=0.79] \n"
     ]
    },
    {
     "name": "stdout",
     "output_type": "stream",
     "text": [
      "Epoch 1: Train Loss = 1.2933, Valid Loss = 0.8422\n",
      "✅ Best model saved at epoch 1 with valid loss 0.8422!\n"
     ]
    },
    {
     "name": "stderr",
     "output_type": "stream",
     "text": [
      "[Train] Epoch 2/100: 100%|██████████| 1123/1123 [05:36<00:00,  3.34it/s, loss=0.726]\n"
     ]
    },
    {
     "name": "stdout",
     "output_type": "stream",
     "text": [
      "Epoch 2: Train Loss = 0.7404, Valid Loss = 0.6880\n",
      "✅ Best model saved at epoch 2 with valid loss 0.6880!\n"
     ]
    },
    {
     "name": "stderr",
     "output_type": "stream",
     "text": [
      "[Train] Epoch 3/100: 100%|██████████| 1123/1123 [05:36<00:00,  3.34it/s, loss=0.644]\n"
     ]
    },
    {
     "name": "stdout",
     "output_type": "stream",
     "text": [
      "Epoch 3: Train Loss = 0.6720, Valid Loss = 0.6613\n",
      "✅ Best model saved at epoch 3 with valid loss 0.6613!\n"
     ]
    },
    {
     "name": "stderr",
     "output_type": "stream",
     "text": [
      "[Train] Epoch 4/100: 100%|██████████| 1123/1123 [05:35<00:00,  3.34it/s, loss=0.67] \n"
     ]
    },
    {
     "name": "stdout",
     "output_type": "stream",
     "text": [
      "Epoch 4: Train Loss = 0.6428, Valid Loss = 0.6405\n",
      "✅ Best model saved at epoch 4 with valid loss 0.6405!\n"
     ]
    },
    {
     "name": "stderr",
     "output_type": "stream",
     "text": [
      "[Train] Epoch 5/100: 100%|██████████| 1123/1123 [05:35<00:00,  3.34it/s, loss=0.637]\n"
     ]
    },
    {
     "name": "stdout",
     "output_type": "stream",
     "text": [
      "Epoch 5: Train Loss = 0.6237, Valid Loss = 0.6203\n",
      "✅ Best model saved at epoch 5 with valid loss 0.6203!\n"
     ]
    },
    {
     "name": "stderr",
     "output_type": "stream",
     "text": [
      "[Train] Epoch 6/100: 100%|██████████| 1123/1123 [05:35<00:00,  3.35it/s, loss=0.612]\n"
     ]
    },
    {
     "name": "stdout",
     "output_type": "stream",
     "text": [
      "Epoch 6: Train Loss = 0.6100, Valid Loss = 0.6094\n",
      "✅ Best model saved at epoch 6 with valid loss 0.6094!\n"
     ]
    },
    {
     "name": "stderr",
     "output_type": "stream",
     "text": [
      "[Train] Epoch 7/100: 100%|██████████| 1123/1123 [05:35<00:00,  3.34it/s, loss=0.596]\n"
     ]
    },
    {
     "name": "stdout",
     "output_type": "stream",
     "text": [
      "Epoch 7: Train Loss = 0.5990, Valid Loss = 0.6039\n",
      "✅ Best model saved at epoch 7 with valid loss 0.6039!\n"
     ]
    },
    {
     "name": "stderr",
     "output_type": "stream",
     "text": [
      "[Train] Epoch 8/100: 100%|██████████| 1123/1123 [05:35<00:00,  3.35it/s, loss=0.596]\n"
     ]
    },
    {
     "name": "stdout",
     "output_type": "stream",
     "text": [
      "Epoch 8: Train Loss = 0.5904, Valid Loss = 0.5959\n",
      "✅ Best model saved at epoch 8 with valid loss 0.5959!\n"
     ]
    },
    {
     "name": "stderr",
     "output_type": "stream",
     "text": [
      "[Train] Epoch 9/100: 100%|██████████| 1123/1123 [05:35<00:00,  3.35it/s, loss=0.58] \n"
     ]
    },
    {
     "name": "stdout",
     "output_type": "stream",
     "text": [
      "Epoch 9: Train Loss = 0.5826, Valid Loss = 0.5919\n",
      "✅ Best model saved at epoch 9 with valid loss 0.5919!\n"
     ]
    },
    {
     "name": "stderr",
     "output_type": "stream",
     "text": [
      "[Train] Epoch 10/100: 100%|██████████| 1123/1123 [05:35<00:00,  3.35it/s, loss=0.575]\n"
     ]
    },
    {
     "name": "stdout",
     "output_type": "stream",
     "text": [
      "Epoch 10: Train Loss = 0.5762, Valid Loss = 0.5879\n",
      "✅ Best model saved at epoch 10 with valid loss 0.5879!\n"
     ]
    },
    {
     "name": "stderr",
     "output_type": "stream",
     "text": [
      "[Train] Epoch 11/100: 100%|██████████| 1123/1123 [05:35<00:00,  3.35it/s, loss=0.586]\n"
     ]
    },
    {
     "name": "stdout",
     "output_type": "stream",
     "text": [
      "Epoch 11: Train Loss = 0.5700, Valid Loss = 0.5846\n",
      "✅ Best model saved at epoch 11 with valid loss 0.5846!\n"
     ]
    },
    {
     "name": "stderr",
     "output_type": "stream",
     "text": [
      "[Train] Epoch 12/100: 100%|██████████| 1123/1123 [05:35<00:00,  3.35it/s, loss=0.589]\n"
     ]
    },
    {
     "name": "stdout",
     "output_type": "stream",
     "text": [
      "Epoch 12: Train Loss = 0.5649, Valid Loss = 0.5820\n",
      "✅ Best model saved at epoch 12 with valid loss 0.5820!\n"
     ]
    },
    {
     "name": "stderr",
     "output_type": "stream",
     "text": [
      "[Train] Epoch 13/100: 100%|██████████| 1123/1123 [05:35<00:00,  3.35it/s, loss=0.581]\n"
     ]
    },
    {
     "name": "stdout",
     "output_type": "stream",
     "text": [
      "Epoch 13: Train Loss = 0.5606, Valid Loss = 0.5800\n",
      "✅ Best model saved at epoch 13 with valid loss 0.5800!\n"
     ]
    },
    {
     "name": "stderr",
     "output_type": "stream",
     "text": [
      "[Train] Epoch 14/100: 100%|██████████| 1123/1123 [05:35<00:00,  3.35it/s, loss=0.568]\n"
     ]
    },
    {
     "name": "stdout",
     "output_type": "stream",
     "text": [
      "Epoch 14: Train Loss = 0.5557, Valid Loss = 0.5793\n",
      "✅ Best model saved at epoch 14 with valid loss 0.5793!\n"
     ]
    },
    {
     "name": "stderr",
     "output_type": "stream",
     "text": [
      "[Train] Epoch 15/100: 100%|██████████| 1123/1123 [05:35<00:00,  3.34it/s, loss=0.559]\n"
     ]
    },
    {
     "name": "stdout",
     "output_type": "stream",
     "text": [
      "Epoch 15: Train Loss = 0.5515, Valid Loss = 0.5758\n",
      "✅ Best model saved at epoch 15 with valid loss 0.5758!\n"
     ]
    },
    {
     "name": "stderr",
     "output_type": "stream",
     "text": [
      "[Train] Epoch 16/100: 100%|██████████| 1123/1123 [05:35<00:00,  3.35it/s, loss=0.548]\n"
     ]
    },
    {
     "name": "stdout",
     "output_type": "stream",
     "text": [
      "Epoch 16: Train Loss = 0.5482, Valid Loss = 0.5732\n",
      "✅ Best model saved at epoch 16 with valid loss 0.5732!\n"
     ]
    },
    {
     "name": "stderr",
     "output_type": "stream",
     "text": [
      "[Train] Epoch 17/100: 100%|██████████| 1123/1123 [05:35<00:00,  3.35it/s, loss=0.543]\n"
     ]
    },
    {
     "name": "stdout",
     "output_type": "stream",
     "text": [
      "Epoch 17: Train Loss = 0.5439, Valid Loss = 0.5719\n",
      "✅ Best model saved at epoch 17 with valid loss 0.5719!\n"
     ]
    },
    {
     "name": "stderr",
     "output_type": "stream",
     "text": [
      "[Train] Epoch 18/100: 100%|██████████| 1123/1123 [05:35<00:00,  3.34it/s, loss=0.565]\n"
     ]
    },
    {
     "name": "stdout",
     "output_type": "stream",
     "text": [
      "Epoch 18: Train Loss = 0.5408, Valid Loss = 0.5727\n"
     ]
    },
    {
     "name": "stderr",
     "output_type": "stream",
     "text": [
      "[Train] Epoch 19/100: 100%|██████████| 1123/1123 [05:35<00:00,  3.34it/s, loss=0.534]\n"
     ]
    },
    {
     "name": "stdout",
     "output_type": "stream",
     "text": [
      "Epoch 19: Train Loss = 0.5375, Valid Loss = 0.5699\n",
      "✅ Best model saved at epoch 19 with valid loss 0.5699!\n"
     ]
    },
    {
     "name": "stderr",
     "output_type": "stream",
     "text": [
      "[Train] Epoch 20/100: 100%|██████████| 1123/1123 [05:35<00:00,  3.34it/s, loss=0.543]\n"
     ]
    },
    {
     "name": "stdout",
     "output_type": "stream",
     "text": [
      "Epoch 20: Train Loss = 0.5346, Valid Loss = 0.5697\n",
      "✅ Best model saved at epoch 20 with valid loss 0.5697!\n"
     ]
    },
    {
     "name": "stderr",
     "output_type": "stream",
     "text": [
      "[Train] Epoch 21/100: 100%|██████████| 1123/1123 [05:35<00:00,  3.34it/s, loss=0.514]\n"
     ]
    },
    {
     "name": "stdout",
     "output_type": "stream",
     "text": [
      "Epoch 21: Train Loss = 0.5314, Valid Loss = 0.5681\n",
      "✅ Best model saved at epoch 21 with valid loss 0.5681!\n"
     ]
    },
    {
     "name": "stderr",
     "output_type": "stream",
     "text": [
      "[Train] Epoch 22/100: 100%|██████████| 1123/1123 [05:35<00:00,  3.35it/s, loss=0.532]\n"
     ]
    },
    {
     "name": "stdout",
     "output_type": "stream",
     "text": [
      "Epoch 22: Train Loss = 0.5285, Valid Loss = 0.5678\n",
      "✅ Best model saved at epoch 22 with valid loss 0.5678!\n"
     ]
    },
    {
     "name": "stderr",
     "output_type": "stream",
     "text": [
      "[Train] Epoch 23/100: 100%|██████████| 1123/1123 [05:35<00:00,  3.35it/s, loss=0.526]\n"
     ]
    },
    {
     "name": "stdout",
     "output_type": "stream",
     "text": [
      "Epoch 23: Train Loss = 0.5257, Valid Loss = 0.5688\n"
     ]
    },
    {
     "name": "stderr",
     "output_type": "stream",
     "text": [
      "[Train] Epoch 24/100: 100%|██████████| 1123/1123 [05:35<00:00,  3.34it/s, loss=0.543]\n"
     ]
    },
    {
     "name": "stdout",
     "output_type": "stream",
     "text": [
      "Epoch 24: Train Loss = 0.5229, Valid Loss = 0.5664\n",
      "✅ Best model saved at epoch 24 with valid loss 0.5664!\n"
     ]
    },
    {
     "name": "stderr",
     "output_type": "stream",
     "text": [
      "[Train] Epoch 25/100: 100%|██████████| 1123/1123 [05:35<00:00,  3.34it/s, loss=0.526]\n"
     ]
    },
    {
     "name": "stdout",
     "output_type": "stream",
     "text": [
      "Epoch 25: Train Loss = 0.5203, Valid Loss = 0.5680\n"
     ]
    },
    {
     "name": "stderr",
     "output_type": "stream",
     "text": [
      "[Train] Epoch 26/100: 100%|██████████| 1123/1123 [05:35<00:00,  3.35it/s, loss=0.517]\n"
     ]
    },
    {
     "name": "stdout",
     "output_type": "stream",
     "text": [
      "Epoch 26: Train Loss = 0.5174, Valid Loss = 0.5704\n"
     ]
    },
    {
     "name": "stderr",
     "output_type": "stream",
     "text": [
      "[Train] Epoch 27/100: 100%|██████████| 1123/1123 [05:35<00:00,  3.34it/s, loss=0.523]\n"
     ]
    },
    {
     "name": "stdout",
     "output_type": "stream",
     "text": [
      "Epoch 27: Train Loss = 0.5146, Valid Loss = 0.5679\n"
     ]
    },
    {
     "name": "stderr",
     "output_type": "stream",
     "text": [
      "[Train] Epoch 28/100: 100%|██████████| 1123/1123 [05:35<00:00,  3.35it/s, loss=0.507]\n"
     ]
    },
    {
     "name": "stdout",
     "output_type": "stream",
     "text": [
      "Epoch 28: Train Loss = 0.5121, Valid Loss = 0.5682\n"
     ]
    },
    {
     "name": "stderr",
     "output_type": "stream",
     "text": [
      "[Train] Epoch 29/100: 100%|██████████| 1123/1123 [05:35<00:00,  3.34it/s, loss=0.488]\n"
     ]
    },
    {
     "name": "stdout",
     "output_type": "stream",
     "text": [
      "Epoch 29: Train Loss = 0.5092, Valid Loss = 0.5691\n"
     ]
    },
    {
     "name": "stderr",
     "output_type": "stream",
     "text": [
      "[Train] Epoch 30/100: 100%|██████████| 1123/1123 [05:35<00:00,  3.34it/s, loss=0.509]\n"
     ]
    },
    {
     "name": "stdout",
     "output_type": "stream",
     "text": [
      "Epoch 30: Train Loss = 0.5069, Valid Loss = 0.5714\n"
     ]
    },
    {
     "name": "stderr",
     "output_type": "stream",
     "text": [
      "[Train] Epoch 31/100: 100%|██████████| 1123/1123 [05:35<00:00,  3.34it/s, loss=0.509]\n"
     ]
    },
    {
     "name": "stdout",
     "output_type": "stream",
     "text": [
      "Epoch 31: Train Loss = 0.5043, Valid Loss = 0.5693\n"
     ]
    },
    {
     "name": "stderr",
     "output_type": "stream",
     "text": [
      "[Train] Epoch 32/100: 100%|██████████| 1123/1123 [05:35<00:00,  3.34it/s, loss=0.511]\n"
     ]
    },
    {
     "name": "stdout",
     "output_type": "stream",
     "text": [
      "Epoch 32: Train Loss = 0.5013, Valid Loss = 0.5708\n"
     ]
    },
    {
     "name": "stderr",
     "output_type": "stream",
     "text": [
      "[Train] Epoch 33/100: 100%|██████████| 1123/1123 [05:36<00:00,  3.34it/s, loss=0.505]\n"
     ]
    },
    {
     "name": "stdout",
     "output_type": "stream",
     "text": [
      "Epoch 33: Train Loss = 0.4988, Valid Loss = 0.5711\n"
     ]
    },
    {
     "name": "stderr",
     "output_type": "stream",
     "text": [
      "[Train] Epoch 34/100: 100%|██████████| 1123/1123 [05:35<00:00,  3.34it/s, loss=0.501]\n"
     ]
    },
    {
     "name": "stdout",
     "output_type": "stream",
     "text": [
      "Epoch 34: Train Loss = 0.4963, Valid Loss = 0.5730\n"
     ]
    },
    {
     "name": "stderr",
     "output_type": "stream",
     "text": [
      "[Train] Epoch 35/100: 100%|██████████| 1123/1123 [05:35<00:00,  3.34it/s, loss=0.491]\n"
     ]
    },
    {
     "name": "stdout",
     "output_type": "stream",
     "text": [
      "Epoch 35: Train Loss = 0.4935, Valid Loss = 0.5732\n"
     ]
    },
    {
     "name": "stderr",
     "output_type": "stream",
     "text": [
      "[Train] Epoch 36/100: 100%|██████████| 1123/1123 [05:35<00:00,  3.35it/s, loss=0.498]\n"
     ]
    },
    {
     "name": "stdout",
     "output_type": "stream",
     "text": [
      "Epoch 36: Train Loss = 0.4908, Valid Loss = 0.5726\n"
     ]
    },
    {
     "name": "stderr",
     "output_type": "stream",
     "text": [
      "[Train] Epoch 37/100: 100%|██████████| 1123/1123 [05:35<00:00,  3.34it/s, loss=0.483]\n"
     ]
    },
    {
     "name": "stdout",
     "output_type": "stream",
     "text": [
      "Epoch 37: Train Loss = 0.4882, Valid Loss = 0.5755\n"
     ]
    },
    {
     "name": "stderr",
     "output_type": "stream",
     "text": [
      "[Train] Epoch 38/100: 100%|██████████| 1123/1123 [05:35<00:00,  3.34it/s, loss=0.478]\n"
     ]
    },
    {
     "name": "stdout",
     "output_type": "stream",
     "text": [
      "Epoch 38: Train Loss = 0.4854, Valid Loss = 0.5784\n"
     ]
    },
    {
     "name": "stderr",
     "output_type": "stream",
     "text": [
      "[Train] Epoch 39/100: 100%|██████████| 1123/1123 [05:36<00:00,  3.34it/s, loss=0.505]\n"
     ]
    },
    {
     "name": "stdout",
     "output_type": "stream",
     "text": [
      "Epoch 39: Train Loss = 0.4828, Valid Loss = 0.5777\n"
     ]
    },
    {
     "name": "stderr",
     "output_type": "stream",
     "text": [
      "[Train] Epoch 40/100: 100%|██████████| 1123/1123 [05:35<00:00,  3.35it/s, loss=0.48] \n"
     ]
    },
    {
     "name": "stdout",
     "output_type": "stream",
     "text": [
      "Epoch 40: Train Loss = 0.4800, Valid Loss = 0.5792\n"
     ]
    },
    {
     "name": "stderr",
     "output_type": "stream",
     "text": [
      "[Train] Epoch 41/100: 100%|██████████| 1123/1123 [05:35<00:00,  3.34it/s, loss=0.481]\n"
     ]
    },
    {
     "name": "stdout",
     "output_type": "stream",
     "text": [
      "Epoch 41: Train Loss = 0.4772, Valid Loss = 0.5832\n"
     ]
    },
    {
     "name": "stderr",
     "output_type": "stream",
     "text": [
      "[Train] Epoch 42/100: 100%|██████████| 1123/1123 [05:35<00:00,  3.34it/s, loss=0.48] \n"
     ]
    },
    {
     "name": "stdout",
     "output_type": "stream",
     "text": [
      "Epoch 42: Train Loss = 0.4742, Valid Loss = 0.5840\n"
     ]
    },
    {
     "name": "stderr",
     "output_type": "stream",
     "text": [
      "[Train] Epoch 43/100: 100%|██████████| 1123/1123 [05:35<00:00,  3.34it/s, loss=0.478]\n"
     ]
    },
    {
     "name": "stdout",
     "output_type": "stream",
     "text": [
      "Epoch 43: Train Loss = 0.4715, Valid Loss = 0.5866\n"
     ]
    },
    {
     "name": "stderr",
     "output_type": "stream",
     "text": [
      "[Train] Epoch 44/100: 100%|██████████| 1123/1123 [05:35<00:00,  3.34it/s, loss=0.464]\n"
     ]
    },
    {
     "name": "stdout",
     "output_type": "stream",
     "text": [
      "Epoch 44: Train Loss = 0.4686, Valid Loss = 0.5888\n"
     ]
    },
    {
     "name": "stderr",
     "output_type": "stream",
     "text": [
      "[Train] Epoch 45/100: 100%|██████████| 1123/1123 [05:36<00:00,  3.34it/s, loss=0.473]\n"
     ]
    },
    {
     "name": "stdout",
     "output_type": "stream",
     "text": [
      "Epoch 45: Train Loss = 0.4657, Valid Loss = 0.5937\n"
     ]
    },
    {
     "name": "stderr",
     "output_type": "stream",
     "text": [
      "[Train] Epoch 46/100: 100%|██████████| 1123/1123 [05:35<00:00,  3.34it/s, loss=0.475]\n"
     ]
    },
    {
     "name": "stdout",
     "output_type": "stream",
     "text": [
      "Epoch 46: Train Loss = 0.4627, Valid Loss = 0.5974\n"
     ]
    },
    {
     "name": "stderr",
     "output_type": "stream",
     "text": [
      "[Train] Epoch 47/100: 100%|██████████| 1123/1123 [05:35<00:00,  3.34it/s, loss=0.48] \n"
     ]
    },
    {
     "name": "stdout",
     "output_type": "stream",
     "text": [
      "Epoch 47: Train Loss = 0.4599, Valid Loss = 0.5972\n"
     ]
    },
    {
     "name": "stderr",
     "output_type": "stream",
     "text": [
      "[Train] Epoch 48/100: 100%|██████████| 1123/1123 [05:35<00:00,  3.34it/s, loss=0.458]\n"
     ]
    },
    {
     "name": "stdout",
     "output_type": "stream",
     "text": [
      "Epoch 48: Train Loss = 0.4569, Valid Loss = 0.6005\n"
     ]
    },
    {
     "name": "stderr",
     "output_type": "stream",
     "text": [
      "[Train] Epoch 49/100: 100%|██████████| 1123/1123 [05:35<00:00,  3.34it/s, loss=0.443]\n"
     ]
    },
    {
     "name": "stdout",
     "output_type": "stream",
     "text": [
      "Epoch 49: Train Loss = 0.4537, Valid Loss = 0.6021\n"
     ]
    },
    {
     "name": "stderr",
     "output_type": "stream",
     "text": [
      "[Train] Epoch 50/100: 100%|██████████| 1123/1123 [05:35<00:00,  3.34it/s, loss=0.446]\n"
     ]
    },
    {
     "name": "stdout",
     "output_type": "stream",
     "text": [
      "Epoch 50: Train Loss = 0.4509, Valid Loss = 0.6086\n"
     ]
    },
    {
     "name": "stderr",
     "output_type": "stream",
     "text": [
      "[Train] Epoch 51/100: 100%|██████████| 1123/1123 [05:36<00:00,  3.34it/s, loss=0.445]\n"
     ]
    },
    {
     "name": "stdout",
     "output_type": "stream",
     "text": [
      "Epoch 51: Train Loss = 0.4478, Valid Loss = 0.6102\n"
     ]
    },
    {
     "name": "stderr",
     "output_type": "stream",
     "text": [
      "[Train] Epoch 52/100: 100%|██████████| 1123/1123 [05:35<00:00,  3.34it/s, loss=0.453]\n"
     ]
    },
    {
     "name": "stdout",
     "output_type": "stream",
     "text": [
      "Epoch 52: Train Loss = 0.4447, Valid Loss = 0.6179\n"
     ]
    },
    {
     "name": "stderr",
     "output_type": "stream",
     "text": [
      "[Train] Epoch 53/100: 100%|██████████| 1123/1123 [05:35<00:00,  3.35it/s, loss=0.455]\n"
     ]
    },
    {
     "name": "stdout",
     "output_type": "stream",
     "text": [
      "Epoch 53: Train Loss = 0.4417, Valid Loss = 0.6228\n"
     ]
    },
    {
     "name": "stderr",
     "output_type": "stream",
     "text": [
      "[Train] Epoch 54/100: 100%|██████████| 1123/1123 [05:35<00:00,  3.35it/s, loss=0.448]\n"
     ]
    },
    {
     "name": "stdout",
     "output_type": "stream",
     "text": [
      "Epoch 54: Train Loss = 0.4385, Valid Loss = 0.6258\n"
     ]
    },
    {
     "name": "stderr",
     "output_type": "stream",
     "text": [
      "[Train] Epoch 55/100: 100%|██████████| 1123/1123 [05:35<00:00,  3.34it/s, loss=0.432]\n"
     ]
    },
    {
     "name": "stdout",
     "output_type": "stream",
     "text": [
      "Epoch 55: Train Loss = 0.4353, Valid Loss = 0.6301\n"
     ]
    },
    {
     "name": "stderr",
     "output_type": "stream",
     "text": [
      "[Train] Epoch 56/100: 100%|██████████| 1123/1123 [05:35<00:00,  3.35it/s, loss=0.423]\n"
     ]
    },
    {
     "name": "stdout",
     "output_type": "stream",
     "text": [
      "Epoch 56: Train Loss = 0.4322, Valid Loss = 0.6369\n"
     ]
    },
    {
     "name": "stderr",
     "output_type": "stream",
     "text": [
      "[Train] Epoch 57/100: 100%|██████████| 1123/1123 [05:35<00:00,  3.34it/s, loss=0.43] \n"
     ]
    },
    {
     "name": "stdout",
     "output_type": "stream",
     "text": [
      "Epoch 57: Train Loss = 0.4290, Valid Loss = 0.6456\n"
     ]
    },
    {
     "name": "stderr",
     "output_type": "stream",
     "text": [
      "[Train] Epoch 58/100: 100%|██████████| 1123/1123 [05:35<00:00,  3.35it/s, loss=0.436]\n"
     ]
    },
    {
     "name": "stdout",
     "output_type": "stream",
     "text": [
      "Epoch 58: Train Loss = 0.4260, Valid Loss = 0.6491\n"
     ]
    },
    {
     "name": "stderr",
     "output_type": "stream",
     "text": [
      "[Train] Epoch 59/100: 100%|██████████| 1123/1123 [05:35<00:00,  3.34it/s, loss=0.411]\n"
     ]
    },
    {
     "name": "stdout",
     "output_type": "stream",
     "text": [
      "Epoch 59: Train Loss = 0.4228, Valid Loss = 0.6522\n"
     ]
    },
    {
     "name": "stderr",
     "output_type": "stream",
     "text": [
      "[Train] Epoch 60/100: 100%|██████████| 1123/1123 [05:35<00:00,  3.34it/s, loss=0.424]\n"
     ]
    },
    {
     "name": "stdout",
     "output_type": "stream",
     "text": [
      "Epoch 60: Train Loss = 0.4196, Valid Loss = 0.6629\n"
     ]
    },
    {
     "name": "stderr",
     "output_type": "stream",
     "text": [
      "[Train] Epoch 61/100: 100%|██████████| 1123/1123 [05:35<00:00,  3.35it/s, loss=0.431]\n"
     ]
    },
    {
     "name": "stdout",
     "output_type": "stream",
     "text": [
      "Epoch 61: Train Loss = 0.4165, Valid Loss = 0.6668\n"
     ]
    },
    {
     "name": "stderr",
     "output_type": "stream",
     "text": [
      "[Train] Epoch 62/100: 100%|██████████| 1123/1123 [05:35<00:00,  3.35it/s, loss=0.439]\n"
     ]
    },
    {
     "name": "stdout",
     "output_type": "stream",
     "text": [
      "Epoch 62: Train Loss = 0.4134, Valid Loss = 0.6738\n"
     ]
    },
    {
     "name": "stderr",
     "output_type": "stream",
     "text": [
      "[Train] Epoch 63/100: 100%|██████████| 1123/1123 [05:35<00:00,  3.34it/s, loss=0.416]\n"
     ]
    },
    {
     "name": "stdout",
     "output_type": "stream",
     "text": [
      "Epoch 63: Train Loss = 0.4103, Valid Loss = 0.6847\n"
     ]
    },
    {
     "name": "stderr",
     "output_type": "stream",
     "text": [
      "[Train] Epoch 64/100: 100%|██████████| 1123/1123 [05:35<00:00,  3.35it/s, loss=0.414]\n"
     ]
    },
    {
     "name": "stdout",
     "output_type": "stream",
     "text": [
      "Epoch 64: Train Loss = 0.4072, Valid Loss = 0.6880\n"
     ]
    },
    {
     "name": "stderr",
     "output_type": "stream",
     "text": [
      "[Train] Epoch 65/100: 100%|██████████| 1123/1123 [05:35<00:00,  3.35it/s, loss=0.411]\n"
     ]
    },
    {
     "name": "stdout",
     "output_type": "stream",
     "text": [
      "Epoch 65: Train Loss = 0.4042, Valid Loss = 0.7015\n"
     ]
    },
    {
     "name": "stderr",
     "output_type": "stream",
     "text": [
      "[Train] Epoch 66/100: 100%|██████████| 1123/1123 [05:35<00:00,  3.35it/s, loss=0.387]\n"
     ]
    },
    {
     "name": "stdout",
     "output_type": "stream",
     "text": [
      "Epoch 66: Train Loss = 0.4011, Valid Loss = 0.7097\n"
     ]
    },
    {
     "name": "stderr",
     "output_type": "stream",
     "text": [
      "[Train] Epoch 67/100: 100%|██████████| 1123/1123 [05:35<00:00,  3.34it/s, loss=0.394]\n"
     ]
    },
    {
     "name": "stdout",
     "output_type": "stream",
     "text": [
      "Epoch 67: Train Loss = 0.3982, Valid Loss = 0.7158\n"
     ]
    },
    {
     "name": "stderr",
     "output_type": "stream",
     "text": [
      "[Train] Epoch 68/100: 100%|██████████| 1123/1123 [05:35<00:00,  3.35it/s, loss=0.397]\n"
     ]
    },
    {
     "name": "stdout",
     "output_type": "stream",
     "text": [
      "Epoch 68: Train Loss = 0.3951, Valid Loss = 0.7231\n"
     ]
    },
    {
     "name": "stderr",
     "output_type": "stream",
     "text": [
      "[Train] Epoch 69/100: 100%|██████████| 1123/1123 [05:36<00:00,  3.34it/s, loss=0.403]\n"
     ]
    },
    {
     "name": "stdout",
     "output_type": "stream",
     "text": [
      "Epoch 69: Train Loss = 0.3922, Valid Loss = 0.7316\n"
     ]
    },
    {
     "name": "stderr",
     "output_type": "stream",
     "text": [
      "[Train] Epoch 70/100: 100%|██████████| 1123/1123 [05:35<00:00,  3.34it/s, loss=0.398]\n"
     ]
    },
    {
     "name": "stdout",
     "output_type": "stream",
     "text": [
      "Epoch 70: Train Loss = 0.3894, Valid Loss = 0.7377\n"
     ]
    },
    {
     "name": "stderr",
     "output_type": "stream",
     "text": [
      "[Train] Epoch 71/100: 100%|██████████| 1123/1123 [05:35<00:00,  3.34it/s, loss=0.389]\n"
     ]
    },
    {
     "name": "stdout",
     "output_type": "stream",
     "text": [
      "Epoch 71: Train Loss = 0.3866, Valid Loss = 0.7499\n"
     ]
    },
    {
     "name": "stderr",
     "output_type": "stream",
     "text": [
      "[Train] Epoch 72/100: 100%|██████████| 1123/1123 [05:35<00:00,  3.34it/s, loss=0.405]\n"
     ]
    },
    {
     "name": "stdout",
     "output_type": "stream",
     "text": [
      "Epoch 72: Train Loss = 0.3840, Valid Loss = 0.7628\n"
     ]
    },
    {
     "name": "stderr",
     "output_type": "stream",
     "text": [
      "[Train] Epoch 73/100: 100%|██████████| 1123/1123 [05:35<00:00,  3.34it/s, loss=0.395]\n"
     ]
    },
    {
     "name": "stdout",
     "output_type": "stream",
     "text": [
      "Epoch 73: Train Loss = 0.3813, Valid Loss = 0.7672\n"
     ]
    },
    {
     "name": "stderr",
     "output_type": "stream",
     "text": [
      "[Train] Epoch 74/100: 100%|██████████| 1123/1123 [05:35<00:00,  3.35it/s, loss=0.382]\n"
     ]
    },
    {
     "name": "stdout",
     "output_type": "stream",
     "text": [
      "Epoch 74: Train Loss = 0.3787, Valid Loss = 0.7807\n"
     ]
    },
    {
     "name": "stderr",
     "output_type": "stream",
     "text": [
      "[Train] Epoch 75/100: 100%|██████████| 1123/1123 [05:35<00:00,  3.34it/s, loss=0.379]\n"
     ]
    },
    {
     "name": "stdout",
     "output_type": "stream",
     "text": [
      "Epoch 75: Train Loss = 0.3762, Valid Loss = 0.7877\n"
     ]
    },
    {
     "name": "stderr",
     "output_type": "stream",
     "text": [
      "[Train] Epoch 76/100: 100%|██████████| 1123/1123 [05:35<00:00,  3.34it/s, loss=0.379]\n"
     ]
    },
    {
     "name": "stdout",
     "output_type": "stream",
     "text": [
      "Epoch 76: Train Loss = 0.3738, Valid Loss = 0.7991\n"
     ]
    },
    {
     "name": "stderr",
     "output_type": "stream",
     "text": [
      "[Train] Epoch 77/100: 100%|██████████| 1123/1123 [05:36<00:00,  3.34it/s, loss=0.383]\n"
     ]
    },
    {
     "name": "stdout",
     "output_type": "stream",
     "text": [
      "Epoch 77: Train Loss = 0.3715, Valid Loss = 0.8055\n"
     ]
    },
    {
     "name": "stderr",
     "output_type": "stream",
     "text": [
      "[Train] Epoch 78/100: 100%|██████████| 1123/1123 [05:35<00:00,  3.35it/s, loss=0.38] \n"
     ]
    },
    {
     "name": "stdout",
     "output_type": "stream",
     "text": [
      "Epoch 78: Train Loss = 0.3692, Valid Loss = 0.8165\n"
     ]
    },
    {
     "name": "stderr",
     "output_type": "stream",
     "text": [
      "[Train] Epoch 79/100: 100%|██████████| 1123/1123 [05:37<00:00,  3.33it/s, loss=0.371]\n"
     ]
    },
    {
     "name": "stdout",
     "output_type": "stream",
     "text": [
      "Epoch 79: Train Loss = 0.3671, Valid Loss = 0.8248\n"
     ]
    },
    {
     "name": "stderr",
     "output_type": "stream",
     "text": [
      "[Train] Epoch 80/100: 100%|██████████| 1123/1123 [05:35<00:00,  3.34it/s, loss=0.36] \n"
     ]
    },
    {
     "name": "stdout",
     "output_type": "stream",
     "text": [
      "Epoch 80: Train Loss = 0.3651, Valid Loss = 0.8328\n"
     ]
    },
    {
     "name": "stderr",
     "output_type": "stream",
     "text": [
      "[Train] Epoch 81/100: 100%|██████████| 1123/1123 [05:35<00:00,  3.35it/s, loss=0.374]\n"
     ]
    },
    {
     "name": "stdout",
     "output_type": "stream",
     "text": [
      "Epoch 81: Train Loss = 0.3630, Valid Loss = 0.8438\n"
     ]
    },
    {
     "name": "stderr",
     "output_type": "stream",
     "text": [
      "[Train] Epoch 82/100: 100%|██████████| 1123/1123 [05:35<00:00,  3.34it/s, loss=0.364]\n"
     ]
    },
    {
     "name": "stdout",
     "output_type": "stream",
     "text": [
      "Epoch 82: Train Loss = 0.3612, Valid Loss = 0.8546\n"
     ]
    },
    {
     "name": "stderr",
     "output_type": "stream",
     "text": [
      "[Train] Epoch 83/100: 100%|██████████| 1123/1123 [05:35<00:00,  3.34it/s, loss=0.354]\n"
     ]
    },
    {
     "name": "stdout",
     "output_type": "stream",
     "text": [
      "Epoch 83: Train Loss = 0.3594, Valid Loss = 0.8625\n"
     ]
    },
    {
     "name": "stderr",
     "output_type": "stream",
     "text": [
      "[Train] Epoch 84/100: 100%|██████████| 1123/1123 [05:35<00:00,  3.34it/s, loss=0.363]\n"
     ]
    },
    {
     "name": "stdout",
     "output_type": "stream",
     "text": [
      "Epoch 84: Train Loss = 0.3577, Valid Loss = 0.8701\n"
     ]
    },
    {
     "name": "stderr",
     "output_type": "stream",
     "text": [
      "[Train] Epoch 85/100: 100%|██████████| 1123/1123 [05:35<00:00,  3.34it/s, loss=0.368]\n"
     ]
    },
    {
     "name": "stdout",
     "output_type": "stream",
     "text": [
      "Epoch 85: Train Loss = 0.3560, Valid Loss = 0.8785\n"
     ]
    },
    {
     "name": "stderr",
     "output_type": "stream",
     "text": [
      "[Train] Epoch 86/100: 100%|██████████| 1123/1123 [05:35<00:00,  3.34it/s, loss=0.366]\n"
     ]
    },
    {
     "name": "stdout",
     "output_type": "stream",
     "text": [
      "Epoch 86: Train Loss = 0.3545, Valid Loss = 0.8839\n"
     ]
    },
    {
     "name": "stderr",
     "output_type": "stream",
     "text": [
      "[Train] Epoch 87/100: 100%|██████████| 1123/1123 [05:36<00:00,  3.34it/s, loss=0.363]\n"
     ]
    },
    {
     "name": "stdout",
     "output_type": "stream",
     "text": [
      "Epoch 87: Train Loss = 0.3531, Valid Loss = 0.8906\n"
     ]
    },
    {
     "name": "stderr",
     "output_type": "stream",
     "text": [
      "[Train] Epoch 88/100: 100%|██████████| 1123/1123 [05:36<00:00,  3.34it/s, loss=0.356]\n"
     ]
    },
    {
     "name": "stdout",
     "output_type": "stream",
     "text": [
      "Epoch 88: Train Loss = 0.3518, Valid Loss = 0.8978\n"
     ]
    },
    {
     "name": "stderr",
     "output_type": "stream",
     "text": [
      "[Train] Epoch 89/100: 100%|██████████| 1123/1123 [05:35<00:00,  3.34it/s, loss=0.355]\n"
     ]
    },
    {
     "name": "stdout",
     "output_type": "stream",
     "text": [
      "Epoch 89: Train Loss = 0.3506, Valid Loss = 0.9026\n"
     ]
    },
    {
     "name": "stderr",
     "output_type": "stream",
     "text": [
      "[Train] Epoch 90/100: 100%|██████████| 1123/1123 [05:35<00:00,  3.34it/s, loss=0.361]\n"
     ]
    },
    {
     "name": "stdout",
     "output_type": "stream",
     "text": [
      "Epoch 90: Train Loss = 0.3494, Valid Loss = 0.9082\n"
     ]
    },
    {
     "name": "stderr",
     "output_type": "stream",
     "text": [
      "[Train] Epoch 91/100: 100%|██████████| 1123/1123 [05:35<00:00,  3.34it/s, loss=0.361]\n"
     ]
    },
    {
     "name": "stdout",
     "output_type": "stream",
     "text": [
      "Epoch 91: Train Loss = 0.3484, Valid Loss = 0.9126\n"
     ]
    },
    {
     "name": "stderr",
     "output_type": "stream",
     "text": [
      "[Train] Epoch 92/100: 100%|██████████| 1123/1123 [05:35<00:00,  3.34it/s, loss=0.349]\n"
     ]
    },
    {
     "name": "stdout",
     "output_type": "stream",
     "text": [
      "Epoch 92: Train Loss = 0.3475, Valid Loss = 0.9154\n"
     ]
    },
    {
     "name": "stderr",
     "output_type": "stream",
     "text": [
      "[Train] Epoch 93/100: 100%|██████████| 1123/1123 [05:35<00:00,  3.34it/s, loss=0.347]\n"
     ]
    },
    {
     "name": "stdout",
     "output_type": "stream",
     "text": [
      "Epoch 93: Train Loss = 0.3467, Valid Loss = 0.9193\n"
     ]
    },
    {
     "name": "stderr",
     "output_type": "stream",
     "text": [
      "[Train] Epoch 94/100: 100%|██████████| 1123/1123 [05:36<00:00,  3.34it/s, loss=0.334]\n"
     ]
    },
    {
     "name": "stdout",
     "output_type": "stream",
     "text": [
      "Epoch 94: Train Loss = 0.3459, Valid Loss = 0.9228\n"
     ]
    },
    {
     "name": "stderr",
     "output_type": "stream",
     "text": [
      "[Train] Epoch 95/100: 100%|██████████| 1123/1123 [05:35<00:00,  3.34it/s, loss=0.343]\n"
     ]
    },
    {
     "name": "stdout",
     "output_type": "stream",
     "text": [
      "Epoch 95: Train Loss = 0.3453, Valid Loss = 0.9252\n"
     ]
    },
    {
     "name": "stderr",
     "output_type": "stream",
     "text": [
      "[Train] Epoch 96/100: 100%|██████████| 1123/1123 [05:36<00:00,  3.34it/s, loss=0.351]\n"
     ]
    },
    {
     "name": "stdout",
     "output_type": "stream",
     "text": [
      "Epoch 96: Train Loss = 0.3448, Valid Loss = 0.9266\n"
     ]
    },
    {
     "name": "stderr",
     "output_type": "stream",
     "text": [
      "[Train] Epoch 97/100: 100%|██████████| 1123/1123 [05:35<00:00,  3.34it/s, loss=0.351]\n"
     ]
    },
    {
     "name": "stdout",
     "output_type": "stream",
     "text": [
      "Epoch 97: Train Loss = 0.3444, Valid Loss = 0.9276\n"
     ]
    },
    {
     "name": "stderr",
     "output_type": "stream",
     "text": [
      "[Train] Epoch 98/100: 100%|██████████| 1123/1123 [05:35<00:00,  3.34it/s, loss=0.343]\n"
     ]
    },
    {
     "name": "stdout",
     "output_type": "stream",
     "text": [
      "Epoch 98: Train Loss = 0.3441, Valid Loss = 0.9281\n"
     ]
    },
    {
     "name": "stderr",
     "output_type": "stream",
     "text": [
      "[Train] Epoch 99/100: 100%|██████████| 1123/1123 [05:35<00:00,  3.34it/s, loss=0.355]\n"
     ]
    },
    {
     "name": "stdout",
     "output_type": "stream",
     "text": [
      "Epoch 99: Train Loss = 0.3439, Valid Loss = 0.9285\n"
     ]
    },
    {
     "name": "stderr",
     "output_type": "stream",
     "text": [
      "[Train] Epoch 100/100: 100%|██████████| 1123/1123 [05:36<00:00,  3.34it/s, loss=0.351]\n"
     ]
    },
    {
     "name": "stdout",
     "output_type": "stream",
     "text": [
      "Epoch 100: Train Loss = 0.3438, Valid Loss = 0.9285\n",
      "Training completed! Best model saved to molgpt_best_model.pth\n"
     ]
    }
   ],
   "source": [
    "import torch\n",
    "import torch.nn as nn\n",
    "from torch.optim import AdamW\n",
    "from torch.optim.lr_scheduler import LambdaLR\n",
    "from torch.utils.data import DataLoader, random_split\n",
    "from tqdm import tqdm\n",
    "import numpy as np\n",
    "\n",
    "# ==========================\n",
    "# データ前処理: descriptorのNaN除去\n",
    "# ==========================\n",
    "descriptors = np.nan_to_num(descriptors, nan=0.0, posinf=1e6, neginf=-1e6)\n",
    "# Tensorに変換し直す（もし必要なら）\n",
    "descriptors = torch.tensor(descriptors, dtype=torch.float32)\n",
    "\n",
    "# ==========================\n",
    "# モデル・ハイパーパラメータ設定\n",
    "# ==========================\n",
    "vocab_size = len(tokenizer.vocab)\n",
    "embedding_dim = 256\n",
    "n_heads = 8\n",
    "feedforward_dim = 512\n",
    "n_layers = 8\n",
    "desc_size = descriptors.size(1)\n",
    "padding_idx = tokenizer.vocab[tokenizer.pad_token]\n",
    "batch_size = 200\n",
    "n_epochs = 100\n",
    "\n",
    "# ==========================\n",
    "# モデル初期化\n",
    "# ==========================\n",
    "device = torch.device('cuda' if torch.cuda.is_available() else 'cpu')\n",
    "\n",
    "model = MolGPT_SelfAttention(\n",
    "    vocab_size=vocab_size,\n",
    "    embedding_dim=embedding_dim,\n",
    "    padding_idx=padding_idx,\n",
    "    n_heads=n_heads,\n",
    "    feedforward_dim=feedforward_dim,\n",
    "    n_layers=n_layers,\n",
    "    desc_size=desc_size\n",
    ").to(device)\n",
    "\n",
    "# ==========================\n",
    "# 損失関数・オプティマイザ・スケジューラ\n",
    "# ==========================\n",
    "criterion = nn.CrossEntropyLoss(ignore_index=padding_idx)\n",
    "\n",
    "# 学習率を少し下げる\n",
    "optimizer = AdamW(model.parameters(), lr=5e-4, weight_decay=0.001)\n",
    "\n",
    "warmup_steps = 1000\n",
    "total_steps = (len(dataset) * 0.9 // batch_size) * n_epochs  # trainのみで計算\n",
    "\n",
    "def lr_lambda(current_step):\n",
    "    if current_step < warmup_steps:\n",
    "        return float(current_step) / float(max(1, warmup_steps))\n",
    "    else:\n",
    "        progress = float(current_step - warmup_steps) / float(max(1, total_steps - warmup_steps))\n",
    "        return max(5e-5, 0.5 * (1.0 + np.cos(np.pi * progress)))\n",
    "\n",
    "scheduler = LambdaLR(optimizer, lr_lambda)\n",
    "\n",
    "# ==========================\n",
    "# データセット分割\n",
    "# ==========================\n",
    "train_size = int(0.9 * len(dataset))\n",
    "valid_size = len(dataset) - train_size\n",
    "train_dataset, valid_dataset = random_split(dataset, [train_size, valid_size])\n",
    "\n",
    "train_loader = DataLoader(train_dataset, batch_size=batch_size, shuffle=True)\n",
    "valid_loader = DataLoader(valid_dataset, batch_size=batch_size, shuffle=False)\n",
    "\n",
    "# ==========================\n",
    "# 訓練ループ\n",
    "# ==========================\n",
    "best_valid_loss = float('inf')  # 最初は無限大にしておく\n",
    "best_model_path = \"molgpt_best_model.pth\"  # 保存ファイル名\n",
    "\n",
    "for epoch in range(n_epochs):\n",
    "    model.train()\n",
    "    total_loss = 0\n",
    "    train_bar = tqdm(train_loader, desc=f\"[Train] Epoch {epoch+1}/{n_epochs}\")\n",
    "\n",
    "    for batch in train_bar:\n",
    "        input_ids, labels, descriptor = batch\n",
    "        input_ids, labels, descriptor = input_ids.to(device), labels.to(device), descriptor.to(device)\n",
    "\n",
    "        optimizer.zero_grad()\n",
    "\n",
    "        logits = model(input_ids, descriptor)\n",
    "        loss = criterion(logits.reshape(-1, vocab_size), labels.reshape(-1))\n",
    "        loss.backward()\n",
    "\n",
    "        # ✅ 勾配クリッピングで爆発防止！\n",
    "        torch.nn.utils.clip_grad_norm_(model.parameters(), max_norm=1.0)\n",
    "\n",
    "        optimizer.step()\n",
    "        scheduler.step()\n",
    "\n",
    "        total_loss += loss.item()\n",
    "        train_bar.set_postfix(loss=loss.item())\n",
    "\n",
    "    avg_train_loss = total_loss / len(train_loader)\n",
    "\n",
    "    # ==========================\n",
    "    # Validation\n",
    "    # ==========================\n",
    "    model.eval()\n",
    "    valid_loss = 0\n",
    "    with torch.no_grad():\n",
    "        for batch in valid_loader:\n",
    "            input_ids, labels, descriptor = batch\n",
    "            input_ids, labels, descriptor = input_ids.to(device), labels.to(device), descriptor.to(device)\n",
    "\n",
    "            logits = model(input_ids, descriptor)\n",
    "            loss = criterion(logits.reshape(-1, vocab_size), labels.reshape(-1))\n",
    "            valid_loss += loss.item()\n",
    "\n",
    "    avg_valid_loss = valid_loss / len(valid_loader)\n",
    "\n",
    "    print(f\"Epoch {epoch+1}: Train Loss = {avg_train_loss:.4f}, Valid Loss = {avg_valid_loss:.4f}\")\n",
    "\n",
    "    # ==========================\n",
    "    # 最良モデル保存\n",
    "    # ==========================\n",
    "    if avg_valid_loss < best_valid_loss:\n",
    "        best_valid_loss = avg_valid_loss\n",
    "        torch.save(model.state_dict(), best_model_path)\n",
    "        print(f\"✅ Best model saved at epoch {epoch+1} with valid loss {best_valid_loss:.4f}!\")\n",
    "\n",
    "print(f\"Training completed! Best model saved to {best_model_path}\")\n"
   ]
  },
  {
   "cell_type": "code",
   "execution_count": 6,
   "id": "c1df988a",
   "metadata": {},
   "outputs": [
    {
     "data": {
      "text/plain": [
       "MolGPT_SelfAttention(\n",
       "  (embedder): Embedder(\n",
       "    (embedding): Embedding(98, 256, padding_idx=2)\n",
       "  )\n",
       "  (descriptor_encoder): DescriptorEncoder(\n",
       "    (bit_emb): Embedding(217, 256)\n",
       "    (scale_norm): LayerNorm((1,), eps=1e-05, elementwise_affine=True)\n",
       "    (dropout): Dropout(p=0.1, inplace=False)\n",
       "  )\n",
       "  (positional_encoder): PositionalEncoder()\n",
       "  (dropout): Dropout(p=0.1, inplace=False)\n",
       "  (layers): ModuleList(\n",
       "    (0-7): 8 x TransformerBlock(\n",
       "      (self_attn): SelfAttentionLayer(\n",
       "        (attention): MultiheadAttention(\n",
       "          (out_proj): NonDynamicallyQuantizableLinear(in_features=256, out_features=256, bias=True)\n",
       "        )\n",
       "      )\n",
       "      (feed_forward): FeedForwardLayer(\n",
       "        (feedforward): Sequential(\n",
       "          (0): Linear(in_features=256, out_features=512, bias=True)\n",
       "          (1): ReLU()\n",
       "          (2): Linear(in_features=512, out_features=256, bias=True)\n",
       "        )\n",
       "      )\n",
       "      (norm1): LayerNorm((256,), eps=1e-05, elementwise_affine=True)\n",
       "      (norm2): LayerNorm((256,), eps=1e-05, elementwise_affine=True)\n",
       "    )\n",
       "  )\n",
       "  (output_layer): Linear(in_features=256, out_features=98, bias=True)\n",
       ")"
      ]
     },
     "execution_count": 6,
     "metadata": {},
     "output_type": "execute_result"
    }
   ],
   "source": [
    "# ==========================\n",
    "# モデル・ハイパーパラメータ設定\n",
    "# ==========================\n",
    "vocab_size = len(tokenizer.vocab)\n",
    "embedding_dim = 256\n",
    "n_heads = 8\n",
    "feedforward_dim = 512\n",
    "n_layers = 8\n",
    "desc_size = descriptors.size(1)\n",
    "padding_idx = tokenizer.vocab[tokenizer.pad_token]\n",
    "batch_size = 200\n",
    "n_epochs = 100\n",
    "device = torch.device('cuda' if torch.cuda.is_available() else 'cpu')\n",
    "final_model_path = r'C:\\Users\\taiki\\IT\\OPS_AGI\\molGPT\\attempts\\with_Reinforcement\\molgpt_final_model_ep100.pth'\n",
    "\n",
    "model2= MolGPT_SelfAttention(\n",
    "    vocab_size=len(tokenizer.vocab),\n",
    "    embedding_dim=embedding_dim,\n",
    "    padding_idx=padding_idx,\n",
    "    n_heads=n_heads,\n",
    "    feedforward_dim=feedforward_dim,\n",
    "    n_layers=n_layers,\n",
    "    desc_size=desc_size\n",
    ").to(device)\n",
    "model2.load_state_dict(torch.load(final_model_path))\n",
    "\n",
    "# 推論やテスト時は eval モードにする\n",
    "model2.eval()"
   ]
  },
  {
   "cell_type": "code",
   "execution_count": 7,
   "id": "8a2ac885",
   "metadata": {},
   "outputs": [
    {
     "name": "stdout",
     "output_type": "stream",
     "text": [
      "Generated SMILES: Cc1cc(C)cc(C(=O)N2CCN(c3nc4ccc(S(C)(=O)=O)cc4s3)CC2)c1\n"
     ]
    },
    {
     "data": {
      "image/jpeg": "[encoded data removed]",
      "image/png": "[encoded data removed]",
      "text/plain": [
       "<PIL.PngImagePlugin.PngImageFile image mode=RGB size=300x300>"
      ]
     },
     "metadata": {},
     "output_type": "display_data"
    },
    {
     "data": {
      "image/png": "[encoded data removed]",
      "text/plain": [
       "<Figure size 1000x800 with 1 Axes>"
      ]
     },
     "metadata": {},
     "output_type": "display_data"
    }
   ],
   "source": [
    "from rdkit import Chem\n",
    "from rdkit.Chem import Draw\n",
    "import torch\n",
    "import numpy as np\n",
    "import matplotlib.pyplot as plt\n",
    "from sklearn.manifold import TSNE\n",
    "from rdkit import Chem\n",
    "from rdkit.Chem import Draw\n",
    "test_smiles = \"CS(=O)(=O)C1=CC(=C(C=C1)C(=O)NC2=CC(=C(C=C2)Cl)C3=CC=CC=N3)Cl\"  #bismodegib\n",
    "test_descriptor = torch.tensor(get_descriptor(test_smiles), dtype=torch.float32)\n",
    "\n",
    "def generate_smiles(model, tokenizer, descriptor, max_length=100, temperature=1.0):\n",
    "    model.eval()\n",
    "    device = next(model.parameters()).device\n",
    "\n",
    "    # <BOS>トークンからスタート\n",
    "    input_ids = torch.tensor([[tokenizer.vocab[tokenizer.bos_token]]], device=device)\n",
    "    descriptor = descriptor.to(device).unsqueeze(0)  # (1, desc_dim)\n",
    "\n",
    "    generated = []\n",
    "\n",
    "    with torch.no_grad():\n",
    "        for _ in range(max_length):\n",
    "            logits = model(input_ids, descriptor) \n",
    "            next_token_logits = logits[:, -1, :] / temperature\n",
    "            next_token_probs = torch.softmax(next_token_logits, dim=-1)\n",
    "\n",
    "            next_token = torch.multinomial(next_token_probs, num_samples=1)\n",
    "            next_token_id = next_token.item()\n",
    "\n",
    "            if next_token_id == tokenizer.vocab[tokenizer.eos_token]:\n",
    "                break\n",
    "\n",
    "            generated.append(next_token_id)\n",
    "\n",
    "            input_ids = torch.cat([input_ids, next_token], dim=1)\n",
    "\n",
    "    generated_smiles = tokenizer.decode(generated)\n",
    "    return generated_smiles\n",
    "\n",
    "generated_smiles = generate_smiles(model2, tokenizer, test_descriptor)\n",
    "print(\"Generated SMILES:\", generated_smiles)\n",
    "\n",
    "mol = Chem.MolFromSmiles(generated_smiles)\n",
    "display(Draw.MolToImage(mol))\n",
    "\n",
    "smiles_real = test_smiles\n",
    "smiles_fake = generated_smiles  \n",
    "\n",
    "desc_real = get_descriptor(smiles_real)\n",
    "desc_fake = get_descriptor(smiles_fake)\n",
    "\n",
    "# 2. 全体の記述子データを numpy 配列に（例えば descriptor_data に既にあると仮定）\n",
    "all_descriptors = np.array(descriptor_data_scaled) \n",
    "all_descriptors = np.vstack([all_descriptors[:50000], desc_real, desc_fake])  # append both\n",
    "\n",
    "# 3. t-SNE 実行\n",
    "tsne_result = TSNE(n_components=2, random_state=42).fit_transform(all_descriptors)\n",
    "\n",
    "# 4. 可視化\n",
    "plt.figure(figsize=(10, 8))\n",
    "plt.scatter(tsne_result[:-2, 0], tsne_result[:-2, 1], c='gray', s=10, label='Others')\n",
    "plt.scatter(tsne_result[-2, 0], tsne_result[-2, 1], color='blue', s=100, label='Acetaminophen')\n",
    "plt.scatter(tsne_result[-1, 0], tsne_result[-1, 1], color='red', s=100, label='Generated')\n",
    "\n",
    "plt.title('t-SNE of RDKit Descriptors')\n",
    "plt.xlabel('t-SNE 1')\n",
    "plt.ylabel('t-SNE 2')\n",
    "plt.legend()\n",
    "plt.grid(True)\n",
    "plt.show()\n"
   ]
  },
  {
   "cell_type": "code",
   "execution_count": 8,
   "id": "5e8bbfd9",
   "metadata": {},
   "outputs": [],
   "source": [
    "import torch\n",
    "import torch.nn as nn\n",
    "from torch.nn import functional as F\n",
    "from torch.distributions import Categorical\n",
    "\n",
    "# ────────────────────────────────────────────────────────────\n",
    "# 既存 MolGPT_SelfAttention を継承して value_head を追加\n",
    "# ────────────────────────────────────────────────────────────\n",
    "class MolGPTWithValue(MolGPT_SelfAttention):\n",
    "    def __init__(self, *args, **kwargs):\n",
    "        super().__init__(*args, **kwargs)           # 既存パラメータを継承\n",
    "        emb_dim = kwargs.get(\"embedding_dim\", args[1])\n",
    "        self.value_head = nn.Linear(emb_dim, 1)     # 追加の V(s) 出力\n",
    "\n",
    "    def forward(self, x, desc):\n",
    "        \"\"\"\n",
    "        返り値:\n",
    "            logits : [B, T, vocab]\n",
    "            values : [B, T]         … 各ステップの状態価値\n",
    "        \"\"\"\n",
    "        token_emb = self.embedder(x)\n",
    "        desc_emb  = self.descriptor_encoder(desc)\n",
    "        h = torch.cat([desc_emb, token_emb], 1)\n",
    "        h = self.positional_encoder(h)\n",
    "        h = self.dropout(h)\n",
    "        for layer in self.layers:\n",
    "            h = layer(h)\n",
    "        logits_full = self.output_layer(h)                # [B, D1+T, vocab]\n",
    "        values_full = self.value_head(h).squeeze(-1)      # [B, D1+T]\n",
    "        # トークン部だけ返す\n",
    "        return (\n",
    "            logits_full[:, desc_emb.size(1):, :],\n",
    "            values_full[:, desc_emb.size(1): ]\n",
    "        )\n"
   ]
  },
  {
   "cell_type": "code",
   "execution_count": null,
   "id": "7586660d",
   "metadata": {},
   "outputs": [],
   "source": [
    "# encoding\n",
    "encoded_data = [tokenizer.encode(smiles) for smiles in smiles_lists]\n",
    "# masking\n",
    "data = [tokenizer.masking_tokens(tokens) for tokens in encoded_data]\n",
    "\n",
    "# descriptor計算\n",
    "def get_descriptor(smiles, descriptor_type='RDKit'):\n",
    "    mol = Chem.MolFromSmiles(smiles)\n",
    "    if mol is not None:\n",
    "        if descriptor_type == 'RDKit':\n",
    "            descriptors = []\n",
    "            for name, func in Descriptors._descList:\n",
    "                try:\n",
    "                    val = func(mol)\n",
    "                    # NaN, inf の除去（floatで有限な値だけ通す）\n",
    "                    descriptors.append(val if np.isfinite(val) else 0.0)\n",
    "                except:\n",
    "                    # 計算エラーも含めて0.0にしておく（または np.nan でも可）\n",
    "                    descriptors.append(0.0)\n",
    "            return np.array(descriptors, dtype=np.float32)\n",
    "        \n",
    "        elif descriptor_type == 'MACCS':\n",
    "            maccs_fp = MACCSkeys.GenMACCSKeys(mol)\n",
    "            arr = np.zeros((maccs_fp.GetNumBits(),), dtype=np.float32)\n",
    "            # ビットをnumpy配列にコピー\n",
    "            for i in range(maccs_fp.GetNumBits()):\n",
    "                arr[i] = maccs_fp.GetBit(i)\n",
    "            return arr\n",
    "        \n",
    "        else:\n",
    "            raise ValueError(\"Unknown descriptor type: choose 'RDKit' or 'MACCS'\")\n",
    "    else:\n",
    "        return None\n",
    "\n",
    "# descriptorを一回だけ計算\n",
    "descriptor_data = []\n",
    "valid_data = []\n",
    "for smiles, (tokens, labels) in zip(smiles_lists, data):\n",
    "    descriptors = get_descriptor(smiles)\n",
    "    if descriptors is not None:\n",
    "        descriptor_data.append(descriptors)\n",
    "        valid_data.append((tokens, labels))  # descriptorがNoneじゃないペアだけ保存\n",
    "\n",
    "data = valid_data\n",
    "\n",
    "# max_len計算（inputsだけで十分）\n",
    "max_len = max(len(tokens) for tokens, _ in data)\n",
    "\n",
    "# padding\n",
    "padded_inputs = [\n",
    "    torch.cat([tokens, torch.full((max_len - len(tokens),), tokenizer.vocab[tokenizer.pad_token], dtype=torch.long)])\n",
    "    for tokens, _ in data\n",
    "]\n",
    "padded_labels = [\n",
    "    torch.cat([labels, torch.full((max_len - len(labels),), tokenizer.vocab[tokenizer.pad_token], dtype=torch.long)])\n",
    "    for _, labels in data\n",
    "]\n",
    "\n",
    "#scaling\n",
    "scaler = StandardScaler()\n",
    "descriptor_data_scaled = scaler.fit_transform(descriptor_data)\n",
    "joblib.dump(scaler, \"descriptor_scaler.pkl\")\n",
    "\n",
    "# to tensor\n",
    "input_ids = torch.stack(padded_inputs)  \n",
    "labels = torch.stack(padded_labels)     \n",
    "descriptors = torch.tensor(descriptor_data_scaled, dtype=torch.float)\n",
    "\n",
    "# create Dataloader\n",
    "dataset = TensorDataset(input_ids, labels, descriptors)\n",
    "dataloader = DataLoader(dataset, batch_size=64, shuffle=True)\n",
    "\n",
    "print(f'inputs_size: {input_ids.size()}')\n",
    "print(f'labels_size: {labels.size()}')\n",
    "print(f'descriptors_size: {descriptors.size()}')\n"
   ]
  },
  {
   "cell_type": "code",
   "execution_count": 9,
   "id": "1da0e2ae",
   "metadata": {},
   "outputs": [],
   "source": [
    "# RDKit 依存ヘルパ\n",
    "from rdkit import Chem\n",
    "from rdkit.Chem import AllChem\n",
    "\n",
    "def cosine_sim(a, b, eps=1e-8):\n",
    "    a, b = torch.tensor(a), torch.tensor(b)\n",
    "    return torch.dot(a, b) / (a.norm() * b.norm() + eps)\n",
    "\n",
    "# ────────────────────────────────────────────────────────────\n",
    "# 1 episode (=1 記述子) ごとに SMILES を自己回帰生成し、    \n",
    "# 各トークンの log_prob / value を収集\n",
    "# ────────────────────────────────────────────────────────────\n",
    "def rollout_one(policy, tokenizer, desc_tensor,\n",
    "                max_len=100, temperature=1.0, eos_id=None):\n",
    "    device = next(policy.parameters()).device\n",
    "    eos_id = eos_id if eos_id is not None else tokenizer.vocab[tokenizer.eos_token]\n",
    "    # <BOS>\n",
    "    input_ids = torch.tensor([[tokenizer.vocab[tokenizer.bos_token]]],\n",
    "                             device=device, dtype=torch.long)\n",
    "    log_probs, values, actions = [], [], []\n",
    "\n",
    "    with torch.no_grad():\n",
    "        for _ in range(max_len):\n",
    "            logits, value = policy(input_ids, desc_tensor.unsqueeze(0))\n",
    "            logits = logits[:, -1, :] / temperature\n",
    "            probs  = F.softmax(logits, -1)\n",
    "            dist   = Categorical(probs)\n",
    "            action = dist.sample()                  # [1]\n",
    "            log_p  = dist.log_prob(action)          # [1]\n",
    "\n",
    "            log_probs.append(log_p.squeeze())       # []\n",
    "            values.append(value[:, -1].squeeze())   # []\n",
    "            actions.append(action.item())\n",
    "\n",
    "            if action.item() == eos_id:\n",
    "                break\n",
    "            input_ids = torch.cat([input_ids, action.unsqueeze(0)], 1)\n",
    "\n",
    "    # 生成文字列\n",
    "    gen_smiles = tokenizer.decode(actions)\n",
    "    return actions, log_probs, values, gen_smiles\n"
   ]
  },
  {
   "cell_type": "code",
   "execution_count": 11,
   "id": "b2632497",
   "metadata": {},
   "outputs": [],
   "source": [
    "class PPOTrainer:\n",
    "    def __init__(self, policy, tokenizer,\n",
    "                 lr=2e-5, clip_eps=0.2, vf_coef=0.5,\n",
    "                 ent_coef=0.01, gamma=1.0, lam=0.95,\n",
    "                 epochs=4, batch_size=8, mini_bs=4,\n",
    "                 max_pad_len=120,\n",
    "                 descriptor_type=\"RDKit\"):\n",
    "        self.policy = policy\n",
    "        self.tokenizer = tokenizer\n",
    "        self.opt = torch.optim.Adam(policy.parameters(), lr=lr)\n",
    "        self.clip_eps, self.vf_coef = clip_eps, vf_coef\n",
    "        self.ent_coef = ent_coef\n",
    "        self.gamma, self.lam = gamma, lam\n",
    "        self.epochs = epochs\n",
    "        self.batch_size, self.mini_bs = mini_bs, mini_bs\n",
    "        self.max_pad_len = max_pad_len  \n",
    "        self.descriptor_type = descriptor_type \n",
    "\n",
    "    # ─────────────────────────────\n",
    "    #   1)  GAE\n",
    "    # ─────────────────────────────\n",
    "    def compute_gae(self, rewards, values):\n",
    "        T = len(rewards)\n",
    "        adv = torch.zeros(T, device=rewards.device)\n",
    "        gae = 0.0\n",
    "        for t in reversed(range(T)):\n",
    "            delta = rewards[t] + self.gamma * values[t+1] - values[t]\n",
    "            gae = delta + self.gamma * self.lam * gae\n",
    "            adv[t] = gae\n",
    "        returns = adv + values[:-1]                   # V_t は T 個\n",
    "        return returns.detach(), adv.detach()\n",
    "\n",
    "    # ─────────────────────────────\n",
    "    #   2)  1 episode ⇒ padded テンソル形式へ\n",
    "    # ─────────────────────────────\n",
    "    def _pad_to_max(self, seq, pad_val):\n",
    "        pad_len = self.max_pad_len - len(seq)\n",
    "        if pad_len < 0:\n",
    "            seq = seq[:self.max_pad_len]              # truncate\n",
    "            pad_len = 0\n",
    "        return torch.tensor(seq + [pad_val]*pad_len, device=self.device)\n",
    "\n",
    "    # ─────────────────────────────\n",
    "    #   3)  バッチ化ユーティリティ\n",
    "    # ─────────────────────────────\n",
    "    def _collate(self, trajectories):\n",
    "        pad_id = self.tokenizer.pad_token_id\n",
    "        keys = [\"input_ids\", \"actions\", \"old_logp\", \"returns\", \"adv\"]\n",
    "        batch = {k: [] for k in keys}\n",
    "        descs = []\n",
    "\n",
    "        for traj in trajectories:\n",
    "            batch[\"input_ids\"].append(\n",
    "                self._pad_to_max(traj[\"actions\"], pad_id)\n",
    "            )\n",
    "            batch[\"actions\"].append(\n",
    "                self._pad_to_max(traj[\"actions\"], pad_id)\n",
    "            )\n",
    "            # 1 トークン 1 logp の長さ合わせ\n",
    "            batch[\"old_logp\"].append(\n",
    "                self._pad_to_max([lp.item() for lp in traj[\"old_logp\"]], 0.0)\n",
    "            )\n",
    "            batch[\"returns\"].append(\n",
    "                self._pad_to_max(traj[\"returns\"].tolist(), 0.0)\n",
    "            )\n",
    "            batch[\"adv\"].append(\n",
    "                self._pad_to_max(traj[\"adv\"].tolist(), 0.0)\n",
    "            )\n",
    "            descs.append(torch.tensor(traj[\"desc\"], device=self.device))\n",
    "\n",
    "        # stack → [B, L]\n",
    "        batch = {k: torch.stack(v, 0) for k, v in batch.items()}\n",
    "        batch[\"descs\"] = torch.stack(descs, 0)\n",
    "        # mask: pad=0, 有効=1\n",
    "        batch[\"mask\"] = (batch[\"actions\"] != pad_id).float()\n",
    "        return batch\n",
    "\n",
    "    # ─────────────────────────────\n",
    "    #   4)  PPO 更新\n",
    "    # ─────────────────────────────\n",
    "    def _ppo_step(self, batch):\n",
    "        B, L = batch[\"actions\"].shape\n",
    "        mask = batch[\"mask\"].view(-1)                 # [B*L]\n",
    "\n",
    "        for _ in range(self.epochs):\n",
    "            # ミニバッチは「トークン単位」でシャッフル\n",
    "            idx = torch.nonzero(mask).squeeze()       # 有効トークン idx\n",
    "            idx = idx[torch.randperm(len(idx))]\n",
    "\n",
    "            for start in range(0, len(idx), self.mini_bs):\n",
    "                sl = idx[start:start+self.mini_bs]\n",
    "\n",
    "                # バッチ平坦化で再評価\n",
    "                logits, values = self.policy(\n",
    "                    batch[\"input_ids\"], batch[\"descs\"]\n",
    "                )                                     # [B, L, V] / [B, L]\n",
    "\n",
    "                logits = logits.reshape(-1, logits.size(-1))[sl]\n",
    "                values = values.reshape(-1)[sl]\n",
    "                dist   = Categorical(logits=logits)\n",
    "                logp   = dist.log_prob(batch[\"actions\"].view(-1)[sl])\n",
    "                entropy = dist.entropy().mean()\n",
    "\n",
    "                # PPO ratio & loss\n",
    "                ratio = torch.exp(logp - batch[\"old_logp\"].view(-1)[sl])\n",
    "                adv   = batch[\"adv\"].view(-1)[sl]\n",
    "                ret   = batch[\"returns\"].view(-1)[sl]\n",
    "\n",
    "                surr1 = ratio * adv\n",
    "                surr2 = torch.clamp(ratio, 1-self.clip_eps, 1+self.clip_eps) * adv\n",
    "                policy_loss = -torch.min(surr1, surr2).mean()\n",
    "                value_loss  = F.mse_loss(values, ret)\n",
    "                loss = policy_loss + self.vf_coef * value_loss - self.ent_coef * entropy\n",
    "\n",
    "                self.opt.zero_grad()\n",
    "                loss.backward()\n",
    "                nn.utils.clip_grad_norm_(self.policy.parameters(), 1.0)\n",
    "                self.opt.step()\n",
    "\n",
    "    # ─────────────────────────────\n",
    "    #   5)  メインループ\n",
    "    # ─────────────────────────────\n",
    "    def train(self, desc_dataset, n_iters=1000, max_len=100):\n",
    "        self.device = next(self.policy.parameters()).device\n",
    "        pad_id = self.tokenizer.pad_token_id\n",
    "\n",
    "        for it in range(1, n_iters+1):\n",
    "            # 1. ロールアウト\n",
    "            trajectories = []\n",
    "            for _ in range(self.batch_size):\n",
    "                idx = np.random.randint(len(desc_dataset))\n",
    "                desc = desc_dataset[idx]\n",
    "                actions, logp, values, gen = rollout_one(\n",
    "                    self.policy, self.tokenizer,\n",
    "                    torch.tensor(desc, device=self.device),\n",
    "                    max_len=max_len\n",
    "                )\n",
    "\n",
    "                # 報酬\n",
    "                desc_out = get_descriptor(gen, self.descriptor_type)\n",
    "                reward = -1.0 if desc_out is None else cosine_sim(desc, desc_out).item()\n",
    "\n",
    "                T = len(actions)\n",
    "                rewards = torch.full((T,), reward, device=self.device)\n",
    "                values_t = torch.stack(values + [torch.tensor(0.0, device=self.device)])\n",
    "                returns, adv = self.compute_gae(rewards, values_t)\n",
    "\n",
    "                trajectories.append({\n",
    "                    \"actions\": actions,           # list[int]\n",
    "                    \"old_logp\": [lp.detach() for lp in logp],\n",
    "                    \"returns\": returns,\n",
    "                    \"adv\": adv,\n",
    "                    \"desc\": desc\n",
    "                })\n",
    "\n",
    "            # 2. バッチ化 → PPO 更新\n",
    "            batch = self._collate(trajectories)\n",
    "            self._ppo_step(batch)\n",
    "\n",
    "            # 3. ログ\n",
    "            if it % 20 == 0:\n",
    "                def _reward_of_traj(traj):\n",
    "                    gen_desc = get_descriptor(\n",
    "                        self.tokenizer.decode(traj[\"actions\"]), self.descriptor_type\n",
    "                    )\n",
    "                    if gen_desc is None or len(gen_desc) != self.desc_dim:\n",
    "                        return -1.0\n",
    "                    return torch.nn.functional.cosine_similarity(\n",
    "                        torch.tensor(traj[\"desc\"], device='cpu'),\n",
    "                        torch.tensor(gen_desc,      device='cpu'),\n",
    "                        dim=0).item()\n",
    "\n",
    "                avg_r = torch.tensor([_reward_of_traj(t) for t in trajectories]).mean().item()\n",
    "                print(f\"[Iter {it}] avg reward = {avg_r:.3f}\")\n",
    "\n"
   ]
  },
  {
   "cell_type": "code",
   "execution_count": 14,
   "id": "db21d075",
   "metadata": {},
   "outputs": [
    {
     "ename": "IndexError",
     "evalue": "tuple index out of range",
     "output_type": "error",
     "traceback": [
      "\u001b[31m---------------------------------------------------------------------------\u001b[39m",
      "\u001b[31mIndexError\u001b[39m                                Traceback (most recent call last)",
      "\u001b[36mCell\u001b[39m\u001b[36m \u001b[39m\u001b[32mIn[14]\u001b[39m\u001b[32m, line 14\u001b[39m\n\u001b[32m      9\u001b[39m desc_dim = descriptor_array.shape[\u001b[32m1\u001b[39m]        \u001b[38;5;66;03m# ← 必ずチェック\u001b[39;00m\n\u001b[32m     11\u001b[39m \u001b[38;5;66;03m# ───────────────────────────────────────────\u001b[39;00m\n\u001b[32m     12\u001b[39m \u001b[38;5;66;03m# 1. Policy + Value モデルを組み立て\u001b[39;00m\n\u001b[32m     13\u001b[39m \u001b[38;5;66;03m# ───────────────────────────────────────────\u001b[39;00m\n\u001b[32m---> \u001b[39m\u001b[32m14\u001b[39m policy_model = \u001b[43mMolGPTWithValue\u001b[49m\u001b[43m(\u001b[49m\n\u001b[32m     15\u001b[39m \u001b[43m    \u001b[49m\u001b[43mvocab_size\u001b[49m\u001b[43m      \u001b[49m\u001b[43m=\u001b[49m\u001b[43m \u001b[49m\u001b[38;5;28;43mlen\u001b[39;49m\u001b[43m(\u001b[49m\u001b[43mtokenizer\u001b[49m\u001b[43m.\u001b[49m\u001b[43mvocab\u001b[49m\u001b[43m)\u001b[49m\u001b[43m,\u001b[49m\n\u001b[32m     16\u001b[39m \u001b[43m    \u001b[49m\u001b[43membedding_dim\u001b[49m\u001b[43m   \u001b[49m\u001b[43m=\u001b[49m\u001b[43m \u001b[49m\u001b[32;43m256\u001b[39;49m\u001b[43m,\u001b[49m\n\u001b[32m     17\u001b[39m \u001b[43m    \u001b[49m\u001b[43mpadding_idx\u001b[49m\u001b[43m     \u001b[49m\u001b[43m=\u001b[49m\u001b[43m \u001b[49m\u001b[43mtokenizer\u001b[49m\u001b[43m.\u001b[49m\u001b[43mvocab\u001b[49m\u001b[43m[\u001b[49m\u001b[43mtokenizer\u001b[49m\u001b[43m.\u001b[49m\u001b[43mpad_token\u001b[49m\u001b[43m]\u001b[49m\u001b[43m,\u001b[49m\n\u001b[32m     18\u001b[39m \u001b[43m    \u001b[49m\u001b[43mn_heads\u001b[49m\u001b[43m         \u001b[49m\u001b[43m=\u001b[49m\u001b[43m \u001b[49m\u001b[32;43m8\u001b[39;49m\u001b[43m,\u001b[49m\n\u001b[32m     19\u001b[39m \u001b[43m    \u001b[49m\u001b[43mfeedforward_dim\u001b[49m\u001b[43m \u001b[49m\u001b[43m=\u001b[49m\u001b[43m \u001b[49m\u001b[32;43m512\u001b[39;49m\u001b[43m,\u001b[49m\n\u001b[32m     20\u001b[39m \u001b[43m    \u001b[49m\u001b[43mn_layers\u001b[49m\u001b[43m        \u001b[49m\u001b[43m=\u001b[49m\u001b[43m \u001b[49m\u001b[32;43m8\u001b[39;49m\u001b[43m,\u001b[49m\n\u001b[32m     21\u001b[39m \u001b[43m    \u001b[49m\u001b[43mdesc_size\u001b[49m\u001b[43m       \u001b[49m\u001b[43m=\u001b[49m\u001b[43m \u001b[49m\u001b[43mdesc_dim\u001b[49m\u001b[43m               \u001b[49m\u001b[38;5;66;43;03m# ← ここを descriptor_array に合わせる\u001b[39;49;00m\n\u001b[32m     22\u001b[39m \u001b[43m)\u001b[49m.to(device)\n\u001b[32m     24\u001b[39m \u001b[38;5;66;03m# 既存ウェイトをロード（value_head は新規なので strict=False）\u001b[39;00m\n\u001b[32m     25\u001b[39m state_dict = torch.load(final_model_path, map_location=device)\n",
      "\u001b[36mCell\u001b[39m\u001b[36m \u001b[39m\u001b[32mIn[8]\u001b[39m\u001b[32m, line 12\u001b[39m, in \u001b[36mMolGPTWithValue.__init__\u001b[39m\u001b[34m(self, *args, **kwargs)\u001b[39m\n\u001b[32m     10\u001b[39m \u001b[38;5;28;01mdef\u001b[39;00m\u001b[38;5;250m \u001b[39m\u001b[34m__init__\u001b[39m(\u001b[38;5;28mself\u001b[39m, *args, **kwargs):\n\u001b[32m     11\u001b[39m     \u001b[38;5;28msuper\u001b[39m().\u001b[34m__init__\u001b[39m(*args, **kwargs)           \u001b[38;5;66;03m# 既存パラメータを継承\u001b[39;00m\n\u001b[32m---> \u001b[39m\u001b[32m12\u001b[39m     emb_dim = kwargs.get(\u001b[33m\"\u001b[39m\u001b[33membedding_dim\u001b[39m\u001b[33m\"\u001b[39m, \u001b[43margs\u001b[49m\u001b[43m[\u001b[49m\u001b[32;43m1\u001b[39;49m\u001b[43m]\u001b[49m)\n\u001b[32m     13\u001b[39m     \u001b[38;5;28mself\u001b[39m.value_head = nn.Linear(emb_dim, \u001b[32m1\u001b[39m)\n",
      "\u001b[31mIndexError\u001b[39m: tuple index out of range"
     ]
    }
   ],
   "source": [
    "# ───────────────────────────────────────────\n",
    "# 0. 前準備\n",
    "# ───────────────────────────────────────────\n",
    "device = torch.device(\"cuda\" if torch.cuda.is_available() else \"cpu\")\n",
    "\n",
    "# 事前に用意した「入力記述子アレイ」\n",
    "#   shape = [N_samples, desc_dim]    dtype = float32 / float64\n",
    "descriptor_array = np.asarray(descriptors, dtype=np.float32)\n",
    "desc_dim = descriptor_array.shape[1]        # ← 必ずチェック\n",
    "\n",
    "# ───────────────────────────────────────────\n",
    "# 1. Policy + Value モデルを組み立て\n",
    "# ───────────────────────────────────────────\n",
    "policy_model = MolGPTWithValue(\n",
    "    vocab_size      = len(tokenizer.vocab),\n",
    "    embedding_dim   = 256,\n",
    "    padding_idx     = tokenizer.vocab[tokenizer.pad_token],\n",
    "    n_heads         = 8,\n",
    "    feedforward_dim = 512,\n",
    "    n_layers        = 8,\n",
    "    desc_size       = desc_dim               # ← ここを descriptor_array に合わせる\n",
    ").to(device)\n",
    "\n",
    "# 既存ウェイトをロード（value_head は新規なので strict=False）\n",
    "state_dict = torch.load(final_model_path, map_location=device)\n",
    "policy_model.load_state_dict(state_dict, strict=False)\n",
    "\n",
    "# ───────────────────────────────────────────\n",
    "# 2. PPOTrainer を起動\n",
    "#    descriptor_type を RDKit / MACCS などに合わせる\n",
    "# ───────────────────────────────────────────\n",
    "ppo = PPOTrainer(\n",
    "        policy           = policy_model,\n",
    "        tokenizer        = tokenizer,\n",
    "        lr               = 1e-5,\n",
    "        batch_size       = 16,\n",
    "        mini_bs          = 8,\n",
    "        max_pad_len      = 120,\n",
    "        descriptor_type  = \"RDKit\"           # ← MACCS に切り替えるならここ\n",
    ")\n",
    "\n",
    "# ───────────────────────────────────────────\n",
    "# 3. 強化学習スタート\n",
    "#    - desc_dataset は「元データと**同じ長さ・同じ次元**の numpy/torch 配列」\n",
    "#    - max_len は 生成 SMILES の最大トークン長\n",
    "# ───────────────────────────────────────────\n",
    "ppo.train(\n",
    "    desc_dataset = descriptor_array,   # ここは np.ndarray でも torch.Tensor でも OK\n",
    "    n_iters      = 2000,\n",
    "    max_len      = 120\n",
    ")\n"
   ]
  },
  {
   "cell_type": "code",
   "execution_count": null,
   "id": "49d14a3f",
   "metadata": {},
   "outputs": [],
   "source": []
  },
  {
   "cell_type": "code",
   "execution_count": null,
   "id": "7a7747b1",
   "metadata": {},
   "outputs": [],
   "source": []
  },
  {
   "cell_type": "code",
   "execution_count": null,
   "id": "570809d1",
   "metadata": {},
   "outputs": [],
   "source": []
  }
 ],
 "metadata": {
  "kernelspec": {
   "display_name": "OPS_AGI_env",
   "language": "python",
   "name": "python3"
  },
  "language_info": {
   "codemirror_mode": {
    "name": "ipython",
    "version": 3
   },
   "file_extension": ".py",
   "mimetype": "text/x-python",
   "name": "python",
   "nbconvert_exporter": "python",
   "pygments_lexer": "ipython3",
   "version": "3.12.9"
  }
 },
 "nbformat": 4,
 "nbformat_minor": 5
}
